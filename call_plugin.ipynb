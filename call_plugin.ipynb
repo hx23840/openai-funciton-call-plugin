{
 "cells": [
  {
   "cell_type": "markdown",
   "source": [
    "# 查找插件\n",
    "可以通过插件搜索工具PlugFinder来查找插件，也是ChatGPT的插件，可以在插件商店搜索并安装\n",
    "使用PlugFinder搜索你想调用的插件，例如PDF插件，安装后，可以在ChatGPT中调用\n",
    "\n",
    "可以参考下面分享的链接\n",
    "https://chat.openai.com/share/97e3e3d8-722e-4caf-9f36-bb5359c21147\n",
    "\n",
    "点击插件的名字，就可以跳转到插件的定义，如AskYourPdf，定义地址是：https://plugin.askyourpdf.com/.well-known/openapi.yaml\n",
    "需要检查插件是否有用户授权，授权的暂时无法调用\n",
    "定义在：https://plugin.askyourpdf.com/.well-known/ai-plugin.json,\n",
    "\"auth\": {\n",
    "    \"type\": \"none\"\n",
    "  },\n",
    "如果是none，代表没有授权，可以直接调用"
   ],
   "metadata": {
    "collapsed": false
   }
  },
  {
   "cell_type": "markdown",
   "source": [
    "# 插件API对应的函数生成\n",
    "函数可以让ChatGPT帮我们生成，具体可参考下面下面分享的链接\n",
    "https://chat.openai.com/share/50d8c3ea-a6d3-4e40-8ca0-08ccc2e18bdb"
   ],
   "metadata": {
    "collapsed": false
   }
  },
  {
   "cell_type": "code",
   "execution_count": null,
   "outputs": [],
   "source": [
    "import requests\n",
    "\n",
    "def send_request(method, url, data=None, params=None):\n",
    "    response = requests.request(method, url, json=data, params=params)\n",
    "    response.raise_for_status()\n",
    "    return response.json()\n",
    "\n",
    "# Base URL\n",
    "BASE_URL = \"https://plugin.askyourpdf.com\"  # 请将这个URL替换为实际的API URL\n",
    "\n",
    "# 用来上传pdf到向量数据库，以便后面查询\n",
    "def download_pdf(url):\n",
    "    path = \"/api/download_pdf\"\n",
    "    full_url = BASE_URL + path\n",
    "    params = {\"url\": url}\n",
    "    response = send_request(\"POST\", full_url, params=params)\n",
    "    return response\n",
    "\n",
    "# 用来查询pdf的内容，需要指定doc_id和查询内容\n",
    "def perform_query(doc_id, query):\n",
    "    path = \"/query\"\n",
    "    full_url = BASE_URL + path\n",
    "    data = {\"doc_id\": doc_id, \"query\": query}\n",
    "    response = send_request(\"POST\", full_url, data=data)\n",
    "    return response"
   ],
   "metadata": {
    "collapsed": false
   }
  },
  {
   "cell_type": "code",
   "execution_count": null,
   "outputs": [],
   "source": [
    "# 调用上传pdf的例子\n",
    "pdf_url = \"https://arxiv.org/pdf/1706.03762.pdf\"\n",
    "response = download_pdf(pdf_url)\n",
    "print(response)"
   ],
   "metadata": {
    "collapsed": false
   }
  },
  {
   "cell_type": "code",
   "execution_count": null,
   "outputs": [],
   "source": [
    "# 调用查询pdf的例子\n",
    "doc_id = \"dff4ba5d-0c37-43b8-81bf-44ddf7fddf2a\"  # 替换为实际的文档ID\n",
    "query = \"What is the Self-attention?\"  # 替换为实际的查询内容\n",
    "response = perform_query(doc_id, query)\n",
    "\n",
    "print(response)"
   ],
   "metadata": {
    "collapsed": false
   }
  },
  {
   "cell_type": "markdown",
   "source": [
    "# 下面演示API调用"
   ],
   "metadata": {
    "collapsed": false
   }
  },
  {
   "cell_type": "code",
   "execution_count": null,
   "outputs": [],
   "source": [
    "import openai\n",
    "import json\n",
    "\n",
    "openai.api_key = \"sk-xxx\"  # 替换为实际的API Key\n",
    "# Step 1, 先上传要对话的pdf文件\n",
    "def run_conversation():\n",
    "    response = openai.ChatCompletion.create(\n",
    "        model=\"gpt-3.5-turbo-0613\",\n",
    "        messages=[{\"role\": \"user\", \"content\": \"I want to upload pdf use this url:https://arxiv.org/pdf/1706.03762.pdf\"}],\n",
    "        functions=[\n",
    "            {\n",
    "                \"name\": \"download_pdf\",\n",
    "                \"description\": \"upload a pdf\",\n",
    "                \"parameters\": {\n",
    "                    \"type\": \"object\",\n",
    "                    \"properties\": {\n",
    "                        \"url\": {\"type\": \"string\",\"description\": \"The pdf url\"},\n",
    "                    },\n",
    "                    \"required\": [\"url\"],\n",
    "                },\n",
    "            }\n",
    "        ],\n",
    "        function_call=\"auto\",\n",
    "    )\n",
    "\n",
    "    message = response[\"choices\"][0][\"message\"]\n",
    "\n",
    "    # Step 2, 检查函数调用\n",
    "    if message.get(\"function_call\"):\n",
    "        # Step 3, 调用函数\n",
    "        function_call = message.get('function_call')\n",
    "        arguments = json.loads(function_call.get('arguments'))\n",
    "        function_response = download_pdf(url=arguments.get(\"url\"))\n",
    "\n",
    "        # Step 4, 调用查询函数\n",
    "        second_response = openai.ChatCompletion.create(\n",
    "            model=\"gpt-3.5-turbo-0613\",\n",
    "            messages=[\n",
    "                {\"role\": \"user\", \"content\": \"I want to search content with pdf, The query content is What is the Self-attention?,The doc id is \" + function_response[\"docId\"]}\n",
    "            ],\n",
    "            functions=[\n",
    "            {\n",
    "                \"name\": \"perform_query\",\n",
    "                \"description\": \"search content with a pdf\",\n",
    "                \"parameters\": {\n",
    "                    \"type\": \"object\",\n",
    "                    \"properties\": {\n",
    "                        \"doc_id\": {\"type\": \"string\",\"description\": \"The doc id\"},\n",
    "                        \"query\": {\"type\": \"string\",\"description\": \"The query content\"},\n",
    "                    },\n",
    "                    \"required\": [\"doc_id\",\"query\"],\n",
    "                },\n",
    "            }\n",
    "        ],\n",
    "        function_call=\"auto\",\n",
    "        )\n",
    "\n",
    "        message = second_response[\"choices\"][0][\"message\"]\n",
    "        # Step 5, 检查函数调用\n",
    "        if message.get(\"function_call\"):\n",
    "            # Step 6, 调用函数\n",
    "            function_call = message.get('function_call')\n",
    "            arguments = json.loads(function_call.get('arguments'))\n",
    "            function_response = perform_query(doc_id=arguments.get(\"doc_id\"),query=arguments.get(\"query\"))\n",
    "\n",
    "            return function_response\n",
    "\n",
    "print(run_conversation())"
   ],
   "metadata": {
    "collapsed": false,
    "is_executing": true
   }
  }
 ],
 "metadata": {
  "kernelspec": {
   "display_name": "Python 3",
   "language": "python",
   "name": "python3"
  },
  "language_info": {
   "codemirror_mode": {
    "name": "ipython",
    "version": 2
   },
   "file_extension": ".py",
   "mimetype": "text/x-python",
   "name": "python",
   "nbconvert_exporter": "python",
   "pygments_lexer": "ipython2",
   "version": "2.7.6"
  }
 },
 "nbformat": 4,
 "nbformat_minor": 0
}
